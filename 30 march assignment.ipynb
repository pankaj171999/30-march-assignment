{
 "cells": [
  {
   "cell_type": "code",
   "execution_count": null,
   "id": "9d27ab3a-180f-4ab5-bba6-8f28006f6596",
   "metadata": {},
   "outputs": [],
   "source": [
    "Q1(Ans)Elastic net regression is a type of linear regression that combines the advantages of lasso and ridge methods. \n",
    "It can handle multicollinearity, reduce overfitting, and select relevant features."
   ]
  },
  {
   "cell_type": "code",
   "execution_count": null,
   "id": "3a216ce5-7cb7-4887-9548-049d25ac5b87",
   "metadata": {},
   "outputs": [],
   "source": [
    "Q2(Ans)One approach you can take is to randomly subsample your data a number of times and look at the variation in your estimate. \n",
    "Then repeat the process for a slightly larger value of lambda to see how it affects the variability of your estimate"
   ]
  },
  {
   "cell_type": "code",
   "execution_count": null,
   "id": "02c50211-1357-4fb3-9bc0-d4cad9ae19d7",
   "metadata": {},
   "outputs": [],
   "source": [
    "Q3(Ans)Advantages of ElasticNet Regression\n",
    "* it can handle multicollinearity\n",
    "*it can reduce overfitting\n",
    "* it can select relevant features.\n",
    "Disadvantages of ElasticNet Regression\n",
    "It may not perform optimally when there is no correlation between features or when the number of features is much smaller than the number of observations, \n",
    "as it may lose predictive power or introduce bias."
   ]
  },
  {
   "cell_type": "code",
   "execution_count": null,
   "id": "48a8c7bf-cc60-491e-97dd-413b2cde94f8",
   "metadata": {},
   "outputs": [],
   "source": [
    "Q4(Ans) \n",
    "Some common use case of Elasticnet regression-\n",
    "*Predicting stock prices\n",
    "*Resources management in computer clusters  \n",
    "*Traffic Light Control to solve congestion problem \n",
    "*Robotics operations "
   ]
  },
  {
   "cell_type": "code",
   "execution_count": null,
   "id": "10bce1aa-3137-4e26-a3f7-431d8b5fb441",
   "metadata": {},
   "outputs": [],
   "source": [
    "Q5(Ans)The coefficients of elastic net regression represent the linear relationship between the features and the target variable, adjusted by the regularization terms. \n",
    "The larger the absolute value of a coefficient, the stronger the effect of the corresponding feature on the target variable."
   ]
  },
  {
   "cell_type": "code",
   "execution_count": null,
   "id": "1f7a19cc-1831-4f1f-9020-95225abb8f97",
   "metadata": {},
   "outputs": [],
   "source": [
    "Q6(Ans)\n",
    "Pairwise deletion is a method of handling missing values where only the observations with complete data are used in each pairwise correlation or regression analysis. \n",
    "This method assumes that the missing data is MCAR, and it is appropriate when the missing data is not too large."
   ]
  },
  {
   "cell_type": "code",
   "execution_count": null,
   "id": "994503f4-001e-4563-a733-bc058839fdfd",
   "metadata": {},
   "outputs": [],
   "source": [
    "Q7(Ans)The coefficients that are zero indicate that the corresponding features are not relevant for the model, and they are eliminated by the lasso penalty. \n",
    "Therefore, you can use the coefficients of elastic net regression to rank the features by their importance and select the ones that have non-zero coefficients."
   ]
  },
  {
   "cell_type": "code",
   "execution_count": null,
   "id": "ca7ad493-1b44-426a-94ec-50f0fd5bb2d8",
   "metadata": {},
   "outputs": [],
   "source": [
    "Q8(Ans)Using pickle , simply save your model on disc with dump() function and de-pickle it into your python code with load() function. Use open() function to create and/or read from a \n",
    "pkl file and make sure you open the file in the binary format by wb for write and rb for read mode.05-Jan-2020"
   ]
  },
  {
   "cell_type": "code",
   "execution_count": null,
   "id": "11bb710e-c508-4a0b-b440-c338d0922866",
   "metadata": {},
   "outputs": [],
   "source": [
    "Q9(Ans)Pickle is a useful Python tool that allows you to save your ML models, to minimise lengthy re-training and allow you to share, commit, and re-load pre-trained machine learning models.\n",
    "Most data scientists working in ML will use Pickle or Joblib to save their ML model for future use."
   ]
  }
 ],
 "metadata": {
  "kernelspec": {
   "display_name": "Python 3 (ipykernel)",
   "language": "python",
   "name": "python3"
  },
  "language_info": {
   "codemirror_mode": {
    "name": "ipython",
    "version": 3
   },
   "file_extension": ".py",
   "mimetype": "text/x-python",
   "name": "python",
   "nbconvert_exporter": "python",
   "pygments_lexer": "ipython3",
   "version": "3.10.8"
  }
 },
 "nbformat": 4,
 "nbformat_minor": 5
}
